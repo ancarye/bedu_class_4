{
 "cells": [
  {
   "cell_type": "code",
   "execution_count": 2,
   "id": "aa438be1-b52f-4591-974f-f3e489351be0",
   "metadata": {},
   "outputs": [
    {
     "name": "stdout",
     "output_type": "stream",
     "text": [
      "a      5.0\n",
      "b      6.0\n",
      "c      7.0\n",
      "d      NaN\n",
      "e    212.0\n",
      "f     12.0\n",
      "g     12.0\n",
      "dtype: float64\n"
     ]
    }
   ],
   "source": [
    "import pandas as pd\n",
    "\n",
    "#indexes\n",
    "\n",
    "data = [5, 6, 7, None, 212, 12, 12]\n",
    "custom_indexes = ['a','b','c','d','e','f','g']\n",
    "series_custom_indexes = pd.Series(data,custom_indexes)\n",
    "\n",
    "print(series_custom_indexes)"
   ]
  },
  {
   "cell_type": "code",
   "execution_count": null,
   "id": "a1a62727-2b40-4090-ba88-c5591d177c20",
   "metadata": {},
   "outputs": [],
   "source": []
  }
 ],
 "metadata": {
  "kernelspec": {
   "display_name": "Python 3 (ipykernel)",
   "language": "python",
   "name": "python3"
  },
  "language_info": {
   "codemirror_mode": {
    "name": "ipython",
    "version": 3
   },
   "file_extension": ".py",
   "mimetype": "text/x-python",
   "name": "python",
   "nbconvert_exporter": "python",
   "pygments_lexer": "ipython3",
   "version": "3.11.5"
  }
 },
 "nbformat": 4,
 "nbformat_minor": 5
}
