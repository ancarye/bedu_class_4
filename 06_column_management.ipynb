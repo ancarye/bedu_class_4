{
 "cells": [
  {
   "cell_type": "code",
   "execution_count": 1,
   "id": "49584558-3a7f-479a-91ac-0604bde6bcaf",
   "metadata": {},
   "outputs": [
    {
     "name": "stdout",
     "output_type": "stream",
     "text": [
      "{'Name': ['Alice', 'Bob', 'Charlie'], 'Age': [25, 30, 35], 'City': ['New York', 'San Francisco', 'Los Angeles']}\n",
      "<class 'dict'>\n"
     ]
    }
   ],
   "source": [
    "import pandas as pd\n",
    "\n",
    "data = {'Name': ['Alice', 'Bob', 'Charlie'],\n",
    "        'Age': [25, 30, 35],\n",
    "        'City': ['New York', 'San Francisco', 'Los Angeles']}\n",
    "print(data)\n",
    "print(type(data)) \n"
   ]
  },
  {
   "cell_type": "code",
   "execution_count": 2,
   "id": "a4b4ff63-d6a6-42ec-88b2-1ed34a7e8cdb",
   "metadata": {},
   "outputs": [
    {
     "name": "stdout",
     "output_type": "stream",
     "text": [
      "      Name  Age           City\n",
      "0    Alice   25       New York\n",
      "1      Bob   30  San Francisco\n",
      "2  Charlie   35    Los Angeles\n"
     ]
    }
   ],
   "source": [
    "df = pd.DataFrame(data)\n",
    "print(df)"
   ]
  },
  {
   "cell_type": "code",
   "execution_count": 4,
   "id": "4b203872-d4b5-45d5-9170-9d540f9d30d9",
   "metadata": {},
   "outputs": [
    {
     "name": "stdout",
     "output_type": "stream",
     "text": [
      "      Name  Edad           City\n",
      "0    Alice    25       New York\n",
      "1      Bob    30  San Francisco\n",
      "2  Charlie    35    Los Angeles\n"
     ]
    }
   ],
   "source": [
    "df.rename(columns = {'Age' : 'Edad'}, inplace = True)\n",
    "\n",
    "print(df)"
   ]
  },
  {
   "cell_type": "code",
   "execution_count": 14,
   "id": "6afc1139-c87f-4716-a02f-99d78cfd5ab4",
   "metadata": {},
   "outputs": [],
   "source": [
    "df['Genero'] = ['Femenino','Masculino','Masculino']"
   ]
  }
 ],
 "metadata": {
  "kernelspec": {
   "display_name": "Python 3 (ipykernel)",
   "language": "python",
   "name": "python3"
  },
  "language_info": {
   "codemirror_mode": {
    "name": "ipython",
    "version": 3
   },
   "file_extension": ".py",
   "mimetype": "text/x-python",
   "name": "python",
   "nbconvert_exporter": "python",
   "pygments_lexer": "ipython3",
   "version": "3.11.5"
  }
 },
 "nbformat": 4,
 "nbformat_minor": 5
}
